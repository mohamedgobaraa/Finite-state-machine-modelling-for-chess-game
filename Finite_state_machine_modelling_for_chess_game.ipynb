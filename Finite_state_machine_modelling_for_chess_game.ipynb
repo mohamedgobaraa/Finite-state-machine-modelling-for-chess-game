{
  "nbformat": 4,
  "nbformat_minor": 0,
  "metadata": {
    "colab": {
      "provenance": []
    },
    "kernelspec": {
      "name": "python3",
      "display_name": "Python 3"
    },
    "language_info": {
      "name": "python"
    }
  },
  "cells": [
    {
      "cell_type": "code",
      "source": [
        "pip install python-chess"
      ],
      "metadata": {
        "colab": {
          "base_uri": "https://localhost:8080/"
        },
        "id": "ZCyzu5dB6WbC",
        "outputId": "fd7f9079-da05-4348-f29b-6114f03a5801"
      },
      "execution_count": 4,
      "outputs": [
        {
          "output_type": "stream",
          "name": "stdout",
          "text": [
            "Collecting python-chess\n",
            "  Downloading python_chess-1.999-py3-none-any.whl.metadata (776 bytes)\n",
            "Collecting chess<2,>=1 (from python-chess)\n",
            "  Downloading chess-1.11.1.tar.gz (156 kB)\n",
            "\u001b[2K     \u001b[90m━━━━━━━━━━━━━━━━━━━━━━━━━━━━━━━━━━━━━━━━\u001b[0m \u001b[32m156.5/156.5 kB\u001b[0m \u001b[31m3.1 MB/s\u001b[0m eta \u001b[36m0:00:00\u001b[0m\n",
            "\u001b[?25h  Preparing metadata (setup.py) ... \u001b[?25l\u001b[?25hdone\n",
            "Downloading python_chess-1.999-py3-none-any.whl (1.4 kB)\n",
            "Building wheels for collected packages: chess\n",
            "  Building wheel for chess (setup.py) ... \u001b[?25l\u001b[?25hdone\n",
            "  Created wheel for chess: filename=chess-1.11.1-py3-none-any.whl size=148497 sha256=edd690dad0f84d150165c007ff9d626ee2c8d84109fa9cec6527775589d14952\n",
            "  Stored in directory: /root/.cache/pip/wheels/2e/2d/23/1bfc95db984ed3ecbf6764167dc7526d0ab521cf9a9852544e\n",
            "Successfully built chess\n",
            "Installing collected packages: chess, python-chess\n",
            "Successfully installed chess-1.11.1 python-chess-1.999\n"
          ]
        }
      ]
    },
    {
      "cell_type": "code",
      "execution_count": 6,
      "metadata": {
        "colab": {
          "base_uri": "https://localhost:8080/"
        },
        "id": "gt-sW-6r5DOv",
        "outputId": "528750fa-c247-44ec-e328-5e51858d2e7c"
      },
      "outputs": [
        {
          "output_type": "stream",
          "name": "stdout",
          "text": [
            "Game initialized. Current state: GameState.INITIALIZING\n",
            "Event: GameEvent.START_GAME | Current State: GameState.INITIALIZING\n",
            "Game started.\n",
            "r n b q k b n r\n",
            "p p p p p p p p\n",
            ". . . . . . . .\n",
            ". . . . . . . .\n",
            ". . . . . . . .\n",
            ". . . . . . . .\n",
            "P P P P P P P P\n",
            "R N B Q K B N R\n",
            "Transitioned to state: GameState.IN_PROGRESS\n"
          ]
        }
      ],
      "source": [
        "import chess\n",
        "import random\n",
        "from enum import Enum, auto\n",
        "\n",
        "class GameState(Enum):\n",
        "    INITIALIZING = auto()\n",
        "    IN_PROGRESS = auto()\n",
        "    CHECK = auto()\n",
        "    CHECKMATE = auto()\n",
        "    STALEMATE = auto()\n",
        "    DRAW = auto()\n",
        "    END = auto()\n",
        "\n",
        "class GameEvent(Enum):\n",
        "    START_GAME = auto()\n",
        "    MOVE_MADE = auto()\n",
        "    CHECK_OCCURS = auto()\n",
        "    CHECKMATE_OCCURS = auto()\n",
        "    STALEMATE_OCCURS = auto()\n",
        "    DRAW_DECLARED = auto()\n",
        "    END_GAME = auto()\n",
        "\n",
        "class ChessGameFSM:\n",
        "    def __init__(self):\n",
        "        self.state = GameState.INITIALIZING\n",
        "        self.board = chess.Board()\n",
        "        print(\"Game initialized. Current state:\", self.state)\n",
        "\n",
        "    def on_event(self, event: GameEvent):\n",
        "        print(f\"Event: {event} | Current State: {self.state}\")\n",
        "\n",
        "        if self.state == GameState.INITIALIZING:\n",
        "            if event == GameEvent.START_GAME:\n",
        "                self.state = GameState.IN_PROGRESS\n",
        "                print(\"Game started.\")\n",
        "                print(self.board)\n",
        "\n",
        "        elif self.state == GameState.IN_PROGRESS:\n",
        "            if event == GameEvent.CHECK_OCCURS:\n",
        "                self.state = GameState.CHECK\n",
        "            elif event == GameEvent.CHECKMATE_OCCURS:\n",
        "                self.state = GameState.CHECKMATE\n",
        "            elif event == GameEvent.STALEMATE_OCCURS:\n",
        "                self.state = GameState.STALEMATE\n",
        "            elif event == GameEvent.DRAW_DECLARED:\n",
        "                self.state = GameState.DRAW\n",
        "\n",
        "        elif self.state == GameState.CHECK:\n",
        "            if event == GameEvent.MOVE_MADE:\n",
        "                self.state = GameState.IN_PROGRESS\n",
        "            elif event == GameEvent.CHECKMATE_OCCURS:\n",
        "                self.state = GameState.CHECKMATE\n",
        "\n",
        "        elif self.state in {GameState.CHECKMATE, GameState.STALEMATE, GameState.DRAW}:\n",
        "            if event == GameEvent.END_GAME:\n",
        "                self.state = GameState.END\n",
        "\n",
        "        print(\"Transitioned to state:\", self.state)\n",
        "\n",
        "    def player_move_white(self, move_uci):\n",
        "        \"\"\"Player's move for White.\"\"\"\n",
        "        if self.state != GameState.IN_PROGRESS:\n",
        "            print(\"Cannot make a move, the game is not in progress.\")\n",
        "            return\n",
        "\n",
        "        move = chess.Move.from_uci(move_uci)\n",
        "        if move not in self.board.legal_moves:\n",
        "            print(\"Invalid move.\")\n",
        "            return\n",
        "\n",
        "        self.board.push(move)\n",
        "        print(f\"White played: {move_uci}\")\n",
        "        print(self.board)\n",
        "\n",
        "        if self.board.is_checkmate():\n",
        "            self.on_event(GameEvent.CHECKMATE_OCCURS)\n",
        "        elif self.board.is_stalemate():\n",
        "            self.on_event(GameEvent.STALEMATE_OCCURS)\n",
        "        elif self.board.is_check():\n",
        "            self.on_event(GameEvent.CHECK_OCCURS)\n",
        "        elif self.board.is_insufficient_material():\n",
        "            self.on_event(GameEvent.DRAW_DECLARED)\n",
        "        else:\n",
        "            self.on_event(GameEvent.MOVE_MADE)\n",
        "            self.bot_move_black()\n",
        "\n",
        "    def bot_move_black(self):\n",
        "        \"\"\"Bot's move for Black.\"\"\"\n",
        "        if self.board.is_game_over():\n",
        "            print(\"The game is over.\")\n",
        "            return\n",
        "\n",
        "        legal_moves = list(self.board.legal_moves)\n",
        "        bot_move = random.choice(legal_moves)\n",
        "        self.board.push(bot_move)\n",
        "        print(f\"Black bot played: {bot_move}\")\n",
        "        print(self.board)\n",
        "\n",
        "        if self.board.is_checkmate():\n",
        "            self.on_event(GameEvent.CHECKMATE_OCCURS)\n",
        "        elif self.board.is_stalemate():\n",
        "            self.on_event(GameEvent.STALEMATE_OCCURS)\n",
        "        elif self.board.is_check():\n",
        "            self.on_event(GameEvent.CHECK_OCCURS)\n",
        "        elif self.board.is_insufficient_material():\n",
        "            self.on_event(GameEvent.DRAW_DECLARED)\n",
        "        else:\n",
        "            self.on_event(GameEvent.MOVE_MADE)\n",
        "\n",
        "game = ChessGameFSM()\n",
        "game.on_event(GameEvent.START_GAME)"
      ]
    },
    {
      "cell_type": "code",
      "source": [
        "game.player_move_white(\"e2e4\")"
      ],
      "metadata": {
        "colab": {
          "base_uri": "https://localhost:8080/"
        },
        "id": "KRhvOyZ05Ge6",
        "outputId": "0fa5b1d6-7834-4c57-bd38-63285f3d2efd"
      },
      "execution_count": 7,
      "outputs": [
        {
          "output_type": "stream",
          "name": "stdout",
          "text": [
            "White played: e2e4\n",
            "r n b q k b n r\n",
            "p p p p p p p p\n",
            ". . . . . . . .\n",
            ". . . . . . . .\n",
            ". . . . P . . .\n",
            ". . . . . . . .\n",
            "P P P P . P P P\n",
            "R N B Q K B N R\n",
            "Event: GameEvent.MOVE_MADE | Current State: GameState.IN_PROGRESS\n",
            "Transitioned to state: GameState.IN_PROGRESS\n",
            "Black bot played: g8f6\n",
            "r n b q k b . r\n",
            "p p p p p p p p\n",
            ". . . . . n . .\n",
            ". . . . . . . .\n",
            ". . . . P . . .\n",
            ". . . . . . . .\n",
            "P P P P . P P P\n",
            "R N B Q K B N R\n",
            "Event: GameEvent.MOVE_MADE | Current State: GameState.IN_PROGRESS\n",
            "Transitioned to state: GameState.IN_PROGRESS\n"
          ]
        }
      ]
    },
    {
      "cell_type": "code",
      "source": [
        "game.player_move_white(\"b1c3\")"
      ],
      "metadata": {
        "colab": {
          "base_uri": "https://localhost:8080/"
        },
        "id": "qxiw2CVw7IZA",
        "outputId": "96f85063-5523-4cfa-cb47-fd090725234f"
      },
      "execution_count": 9,
      "outputs": [
        {
          "output_type": "stream",
          "name": "stdout",
          "text": [
            "White played: b1c3\n",
            "r n b q k b . r\n",
            "p p p p p p p p\n",
            ". . . . . n . .\n",
            ". . . . . . . .\n",
            ". . . . P . . .\n",
            ". . N . . . . .\n",
            "P P P P . P P P\n",
            "R . B Q K B N R\n",
            "Event: GameEvent.MOVE_MADE | Current State: GameState.IN_PROGRESS\n",
            "Transitioned to state: GameState.IN_PROGRESS\n",
            "Black bot played: b8c6\n",
            "r . b q k b . r\n",
            "p p p p p p p p\n",
            ". . n . . n . .\n",
            ". . . . . . . .\n",
            ". . . . P . . .\n",
            ". . N . . . . .\n",
            "P P P P . P P P\n",
            "R . B Q K B N R\n",
            "Event: GameEvent.MOVE_MADE | Current State: GameState.IN_PROGRESS\n",
            "Transitioned to state: GameState.IN_PROGRESS\n"
          ]
        }
      ]
    },
    {
      "cell_type": "code",
      "source": [
        "game.player_move_white(\"g1f3\")"
      ],
      "metadata": {
        "colab": {
          "base_uri": "https://localhost:8080/"
        },
        "id": "6QUze9267YZy",
        "outputId": "a2e2b51c-a349-4b2d-ac16-c78ac414f651"
      },
      "execution_count": 10,
      "outputs": [
        {
          "output_type": "stream",
          "name": "stdout",
          "text": [
            "White played: g1f3\n",
            "r . b q k b . r\n",
            "p p p p p p p p\n",
            ". . n . . n . .\n",
            ". . . . . . . .\n",
            ". . . . P . . .\n",
            ". . N . . N . .\n",
            "P P P P . P P P\n",
            "R . B Q K B . R\n",
            "Event: GameEvent.MOVE_MADE | Current State: GameState.IN_PROGRESS\n",
            "Transitioned to state: GameState.IN_PROGRESS\n",
            "Black bot played: f6g4\n",
            "r . b q k b . r\n",
            "p p p p p p p p\n",
            ". . n . . . . .\n",
            ". . . . . . . .\n",
            ". . . . P . n .\n",
            ". . N . . N . .\n",
            "P P P P . P P P\n",
            "R . B Q K B . R\n",
            "Event: GameEvent.MOVE_MADE | Current State: GameState.IN_PROGRESS\n",
            "Transitioned to state: GameState.IN_PROGRESS\n"
          ]
        }
      ]
    },
    {
      "cell_type": "code",
      "source": [
        "game.player_move_white(\"f3g5\")"
      ],
      "metadata": {
        "colab": {
          "base_uri": "https://localhost:8080/"
        },
        "id": "VRFsdWGC7qbT",
        "outputId": "ba2a2203-68da-46ec-a81e-e1eb35d4e0e6"
      },
      "execution_count": 11,
      "outputs": [
        {
          "output_type": "stream",
          "name": "stdout",
          "text": [
            "White played: f3g5\n",
            "r . b q k b . r\n",
            "p p p p p p p p\n",
            ". . n . . . . .\n",
            ". . . . . . N .\n",
            ". . . . P . n .\n",
            ". . N . . . . .\n",
            "P P P P . P P P\n",
            "R . B Q K B . R\n",
            "Event: GameEvent.MOVE_MADE | Current State: GameState.IN_PROGRESS\n",
            "Transitioned to state: GameState.IN_PROGRESS\n",
            "Black bot played: g4e3\n",
            "r . b q k b . r\n",
            "p p p p p p p p\n",
            ". . n . . . . .\n",
            ". . . . . . N .\n",
            ". . . . P . . .\n",
            ". . N . n . . .\n",
            "P P P P . P P P\n",
            "R . B Q K B . R\n",
            "Event: GameEvent.MOVE_MADE | Current State: GameState.IN_PROGRESS\n",
            "Transitioned to state: GameState.IN_PROGRESS\n"
          ]
        }
      ]
    }
  ]
}